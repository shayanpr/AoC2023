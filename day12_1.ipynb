{
 "cells": [
  {
   "cell_type": "markdown",
   "metadata": {},
   "source": [
    "# **Advent of Code**\n",
    "\n",
    "This is an annual event in which a set of daily challenges are provided, for programmers of all walks of life to work on. [Advent of Code](adventofcode.com) is highly recommended for any programmers out there."
   ]
  },
  {
   "cell_type": "code",
   "execution_count": null,
   "metadata": {},
   "outputs": [],
   "source": [
    "puzzle_input = \"\"\n",
    "file_number = 12\n",
    "with open(file=f\"inputs/{file_number}.txt\", mode = 'r') as f:\n",
    "    puzzle_input = f.read()\n"
   ]
  },
  {
   "cell_type": "code",
   "execution_count": null,
   "metadata": {},
   "outputs": [],
   "source": []
  }
 ],
 "metadata": {
  "language_info": {
   "name": "python"
  }
 },
 "nbformat": 4,
 "nbformat_minor": 2
}
