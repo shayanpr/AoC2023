{
 "cells": [
  {
   "cell_type": "markdown",
   "metadata": {},
   "source": [
    "# **Advent of Code**\n",
    "\n",
    "This is an annual event in which a set of daily challenges are provided, for programmers of all walks of life to work on. [Advent of Code](adventofcode.com) is highly recommended for any programmers out there."
   ]
  },
  {
   "cell_type": "markdown",
   "metadata": {},
   "source": [
    "## Day 4: Scratchcards\n",
    "The gondola takes you up. Strangely, though, the ground doesn't seem to be coming with you; you're not climbing a mountain. As the circle of Snow Island recedes below you, an entire new landmass suddenly appears above you! The gondola carries you to the surface of the new island and lurches into the station.\n",
    "\n",
    "As you exit the gondola, the first thing you notice is that the air here is much _warmer_ than it was on Snow Island. It's also quite _humid_. Is this where the water source is?\n",
    "\n",
    "The next thing you notice is an Elf sitting on the floor across the station in what seems to be a pile of colorful square cards.\n",
    "\n",
    "\"Oh! Hello!\" The Elf excitedly runs over to you. \"How may I be of service?\" You ask about water sources.\n",
    "\n",
    "\"I'm not sure; I just operate the gondola lift. That does sound like something we'd have, though - this is _Island Island_, after all! I bet the _gardener_ would know. He's on a different island, though - er, the small kind surrounded by water, not the floating kind. We really need to come up with a better naming scheme. Tell you what: if you can help me with something quick, I'll let you _borrow my boat_ and you can go visit the gardener. I got all these scratchcards as a gift, but I can't figure out what I've won.\"\n",
    "\n",
    "The Elf leads you over to the pile of colorful cards. There, you discover dozens of scratchcards, all with their opaque covering already scratched off. Picking one up, it looks like each card has two lists of numbers separated by a vertical bar (|): a list of _winning numbers_ and then a list of _numbers you have_. You organize the information into a table (your puzzle input).\n",
    "\n",
    "As far as the Elf has been able to figure out, you have to figure out which of the numbers you have appear in the list of winning numbers. The first match makes the card worth _one point_ and each match after the first _doubles_ the point value of that card.\n",
    "\n",
    "For example:\n",
    "\n",
    "```Card 1: 41 48 83 86 17 | 83 86  6 31 17  9 48 53\n",
    "Card 2: 13 32 20 16 61 | 61 30 68 82 17 32 24 19\n",
    "Card 3:  1 21 53 59 44 | 69 82 63 72 16 21 14  1\n",
    "Card 4: 41 92 73 84 69 | 59 84 76 51 58  5 54 83\n",
    "Card 5: 87 83 26 28 32 | 88 30 70 12 93 22 82 36\n",
    "Card 6: 31 18 13 56 72 | 74 77 10 23 35 67 36 11\n",
    "```\n",
    "\n",
    "In the above example, card 1 has five winning numbers (41, 48, 83, 86, and 17) and eight numbers you have (83, 86, 6, 31, 17, 9, 48, and 53). Of the numbers you have, four of them (48, 83, 17, and 86) are winning numbers! That means card 1 is worth 8 points (1 for the first match, then doubled three times for each of the three matches after the first).\n",
    "\n",
    "- Card 2 has two winning numbers (32 and 61), so it is worth 2 points.\n",
    "- Card 3 has two winning numbers (1 and 21), so it is worth 2 points.\n",
    "- Card 4 has one winning number (84), so it is worth 1 point.\n",
    "- Card 5 has no winning numbers, so it is worth no points.\n",
    "- Card 6 has no winning numbers, so it is worth no points.\n",
    "So, in this example, the Elf's pile of scratchcards is worth 13 points.\n",
    "\n",
    "Take a seat in the large pile of colorful cards. How many points are they worth in total?"
   ]
  },
  {
   "cell_type": "code",
   "execution_count": 1,
   "metadata": {},
   "outputs": [],
   "source": [
    "puzzle_input = \"\"\n",
    "file_number = 4\n",
    "with open(file=f\"inputs/{file_number}.txt\", mode = 'r') as f:\n",
    "    puzzle_input = f.read()\n"
   ]
  },
  {
   "cell_type": "code",
   "execution_count": 2,
   "metadata": {},
   "outputs": [],
   "source": [
    "puzzle_input = puzzle_input.split('\\n')"
   ]
  },
  {
   "cell_type": "code",
   "execution_count": 3,
   "metadata": {},
   "outputs": [],
   "source": [
    "Cards = {i.split(':')[0]: i.split(':')[1] for i in puzzle_input}"
   ]
  },
  {
   "cell_type": "code",
   "execution_count": 12,
   "metadata": {},
   "outputs": [],
   "source": [
    "cards_w = []\n",
    "cards_n = []\n",
    "cards_c = [1 for i in range(len(Cards))]\n",
    "for card,num  in Cards.items():\n",
    "    s = num.split('|')\n",
    "    cards_w.append(s[0].split())\n",
    "    cards_n.append(s[1].split())\n"
   ]
  },
  {
   "cell_type": "code",
   "execution_count": 5,
   "metadata": {},
   "outputs": [
    {
     "name": "stdout",
     "output_type": "stream",
     "text": [
      " 96 64 85 18 82 33 29 17 24 99 | 76 99 53 17 78 38 82 96 18 85  1 73 36 24 11 47 40 64 89 98 20  9 23 84 57:\n",
      "['96', '64', '85', '18', '82', '33', '29', '17', '24', '99'] || ['76', '99', '53', '17', '78', '38', '82', '96', '18', '85', '1', '73', '36', '24', '11', '47', '40', '64', '89', '98', '20', '9', '23', '84', '57']\n",
      " 73 21 29 44 15 91 95 12  6 55 | 63 56 34 55 59 62 94 29 89 95 21 28 91 78 83 12  6  2 84 46 73 81 15 44 20:\n",
      "['73', '21', '29', '44', '15', '91', '95', '12', '6', '55'] || ['63', '56', '34', '55', '59', '62', '94', '29', '89', '95', '21', '28', '91', '78', '83', '12', '6', '2', '84', '46', '73', '81', '15', '44', '20']\n",
      " 15 92 59 63 87 68 61 26 98 97 |  4 59 46 83 68 10 32 15 58 85 78 22 98 77 92 56 42 36 61  7 87 17 26 97 63:\n",
      "['15', '92', '59', '63', '87', '68', '61', '26', '98', '97'] || ['4', '59', '46', '83', '68', '10', '32', '15', '58', '85', '78', '22', '98', '77', '92', '56', '42', '36', '61', '7', '87', '17', '26', '97', '63']\n",
      " 87 71 84 55 92  9 26 10 24 25 | 65  1 34 35 50 59  2 23  6 63 56  5 98 45  7 41 58 93 54 27 44 82 46 47 21:\n",
      "['87', '71', '84', '55', '92', '9', '26', '10', '24', '25'] || ['65', '1', '34', '35', '50', '59', '2', '23', '6', '63', '56', '5', '98', '45', '7', '41', '58', '93', '54', '27', '44', '82', '46', '47', '21']\n",
      " 62 49 39 32 15 77 78 50 34 65 | 78 76 20 60 65 56 82 22 39 99 72 35 33 77 49  1 50 42 62 26 16 23 75 43 95:\n",
      "['62', '49', '39', '32', '15', '77', '78', '50', '34', '65'] || ['78', '76', '20', '60', '65', '56', '82', '22', '39', '99', '72', '35', '33', '77', '49', '1', '50', '42', '62', '26', '16', '23', '75', '43', '95']\n",
      " 30 70 26 71 78 57 14 91 66 25 | 61 36  4 46 81 41 99 14 76 78 71 26  2 66  9 48 91 11 30 70 57 42 25 62 87:\n",
      "['30', '70', '26', '71', '78', '57', '14', '91', '66', '25'] || ['61', '36', '4', '46', '81', '41', '99', '14', '76', '78', '71', '26', '2', '66', '9', '48', '91', '11', '30', '70', '57', '42', '25', '62', '87']\n"
     ]
    }
   ],
   "source": [
    "for i in range(22,28):\n",
    "    print(Cards[f\"Card {str(i+1).rjust(3)}\"], end= \":\\n\")\n",
    "    print(cards_w[i], \"||\", cards_n[i])"
   ]
  },
  {
   "cell_type": "code",
   "execution_count": 9,
   "metadata": {},
   "outputs": [],
   "source": [
    "def match_counter(win , num) :\n",
    "    count = 0\n",
    "    for i in win:\n",
    "        if i in num:\n",
    "            count += 1\n",
    "    \n",
    "    return count\n"
   ]
  },
  {
   "cell_type": "code",
   "execution_count": 11,
   "metadata": {},
   "outputs": [
    {
     "data": {
      "text/plain": [
       "0"
      ]
     },
     "execution_count": 11,
     "metadata": {},
     "output_type": "execute_result"
    }
   ],
   "source": [
    "match_counter(cards_w[4], cards_n[4])"
   ]
  },
  {
   "cell_type": "code",
   "execution_count": 18,
   "metadata": {},
   "outputs": [],
   "source": [
    "for i in range(len(cards_c)):\n",
    "    c = match_counter(cards_w[i] , cards_n[i])\n",
    "    for j in range(1,c+1):\n",
    "        cards_c[i+j] += cards_c[i]  *1"
   ]
  },
  {
   "cell_type": "code",
   "execution_count": 19,
   "metadata": {},
   "outputs": [
    {
     "name": "stdout",
     "output_type": "stream",
     "text": [
      "[1, 2, 4, 8, 16, 14, 20, 40, 80, 160, 320, 599, 1118, 2232, 4450, 8900, 5390, 5711, 1, 2, 4, 8, 16, 32, 64, 128, 128, 256, 512, 1023, 1528, 3040, 4544, 6048, 11936, 23808, 47616, 95232, 190208, 344672, 248417, 1, 2, 4, 8, 16, 31, 23, 46, 92, 184, 368, 720, 1070, 2136, 4272, 8314, 15885, 27406, 54812, 109624, 203363, 93739, 104190, 1, 2, 4, 8, 8, 16, 16, 16, 16, 31, 62, 124, 122, 240, 449, 890, 1780, 3320, 6624, 13248, 22665, 45330, 54747, 101858, 1, 2, 4, 8, 15, 30, 60, 120, 236, 464, 928, 267, 534, 1038, 1275, 1, 2, 4, 7, 14, 14, 28, 56, 112, 112, 224, 448, 894, 890, 1549, 2208, 3954, 7880, 11750, 23500, 35138, 27258, 23501, 47002, 94004, 1, 2, 4, 8, 16, 32, 64, 64, 64, 127, 250, 498, 916, 1052, 1, 1, 2, 4, 8, 16, 32, 63, 126, 252, 504, 968, 1873, 3492, 6854, 12740, 25464, 25464, 31334, 5870, 9867, 1, 2, 4, 8, 16, 31, 62, 124, 248, 248, 496, 992, 1974, 3448, 6880, 13760, 27241, 54420, 105268, 208562, 417124, 833256, 1666512, 1493064, 2353562, 1, 2, 4, 8, 16, 32, 64, 128, 239, 478, 717, 1432, 2864, 5596, 10403, 20806, 41580, 41580, 81728, 29267, 52938, 52938, 73745, 20807]\n"
     ]
    }
   ],
   "source": [
    "print(cards_c)"
   ]
  },
  {
   "cell_type": "code",
   "execution_count": 20,
   "metadata": {},
   "outputs": [],
   "source": [
    "gameCards = sum(cards_c) "
   ]
  },
  {
   "cell_type": "code",
   "execution_count": 21,
   "metadata": {},
   "outputs": [
    {
     "name": "stdout",
     "output_type": "stream",
     "text": [
      "9924412\n"
     ]
    }
   ],
   "source": [
    "print(gameCards)"
   ]
  },
  {
   "cell_type": "code",
   "execution_count": 22,
   "metadata": {},
   "outputs": [],
   "source": [
    "result = gameCards "
   ]
  },
  {
   "cell_type": "code",
   "execution_count": 23,
   "metadata": {},
   "outputs": [
    {
     "name": "stdout",
     "output_type": "stream",
     "text": [
      "9924412\n"
     ]
    }
   ],
   "source": [
    "print(result)"
   ]
  },
  {
   "cell_type": "code",
   "execution_count": null,
   "metadata": {},
   "outputs": [],
   "source": []
  }
 ],
 "metadata": {
  "kernelspec": {
   "display_name": "Python 3",
   "language": "python",
   "name": "python3"
  },
  "language_info": {
   "codemirror_mode": {
    "name": "ipython",
    "version": 3
   },
   "file_extension": ".py",
   "mimetype": "text/x-python",
   "name": "python",
   "nbconvert_exporter": "python",
   "pygments_lexer": "ipython3",
   "version": "3.11.7"
  }
 },
 "nbformat": 4,
 "nbformat_minor": 2
}
