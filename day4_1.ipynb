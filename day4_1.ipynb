{
 "cells": [
  {
   "cell_type": "markdown",
   "metadata": {},
   "source": [
    "# **Advent of Code**\n",
    "\n",
    "This is an annual event in which a set of daily challenges are provided, for programmers of all walks of life to work on. [Advent of Code](adventofcode.com) is highly recommended for any programmers out there."
   ]
  },
  {
   "cell_type": "markdown",
   "metadata": {},
   "source": [
    "## Day 4: Scratchcards\n",
    "The gondola takes you up. Strangely, though, the ground doesn't seem to be coming with you; you're not climbing a mountain. As the circle of Snow Island recedes below you, an entire new landmass suddenly appears above you! The gondola carries you to the surface of the new island and lurches into the station.\n",
    "\n",
    "As you exit the gondola, the first thing you notice is that the air here is much _warmer_ than it was on Snow Island. It's also quite _humid_. Is this where the water source is?\n",
    "\n",
    "The next thing you notice is an Elf sitting on the floor across the station in what seems to be a pile of colorful square cards.\n",
    "\n",
    "\"Oh! Hello!\" The Elf excitedly runs over to you. \"How may I be of service?\" You ask about water sources.\n",
    "\n",
    "\"I'm not sure; I just operate the gondola lift. That does sound like something we'd have, though - this is _Island Island_, after all! I bet the _gardener_ would know. He's on a different island, though - er, the small kind surrounded by water, not the floating kind. We really need to come up with a better naming scheme. Tell you what: if you can help me with something quick, I'll let you _borrow my boat_ and you can go visit the gardener. I got all these scratchcards as a gift, but I can't figure out what I've won.\"\n",
    "\n",
    "The Elf leads you over to the pile of colorful cards. There, you discover dozens of scratchcards, all with their opaque covering already scratched off. Picking one up, it looks like each card has two lists of numbers separated by a vertical bar (|): a list of _winning numbers_ and then a list of _numbers you have_. You organize the information into a table (your puzzle input).\n",
    "\n",
    "As far as the Elf has been able to figure out, you have to figure out which of the numbers you have appear in the list of winning numbers. The first match makes the card worth _one point_ and each match after the first _doubles_ the point value of that card.\n",
    "\n",
    "For example:\n",
    "\n",
    "```Card 1: 41 48 83 86 17 | 83 86  6 31 17  9 48 53\n",
    "Card 2: 13 32 20 16 61 | 61 30 68 82 17 32 24 19\n",
    "Card 3:  1 21 53 59 44 | 69 82 63 72 16 21 14  1\n",
    "Card 4: 41 92 73 84 69 | 59 84 76 51 58  5 54 83\n",
    "Card 5: 87 83 26 28 32 | 88 30 70 12 93 22 82 36\n",
    "Card 6: 31 18 13 56 72 | 74 77 10 23 35 67 36 11\n",
    "```\n",
    "\n",
    "In the above example, card 1 has five winning numbers (41, 48, 83, 86, and 17) and eight numbers you have (83, 86, 6, 31, 17, 9, 48, and 53). Of the numbers you have, four of them (48, 83, 17, and 86) are winning numbers! That means card 1 is worth 8 points (1 for the first match, then doubled three times for each of the three matches after the first).\n",
    "\n",
    "- Card 2 has two winning numbers (32 and 61), so it is worth 2 points.\n",
    "- Card 3 has two winning numbers (1 and 21), so it is worth 2 points.\n",
    "- Card 4 has one winning number (84), so it is worth 1 point.\n",
    "- Card 5 has no winning numbers, so it is worth no points.\n",
    "- Card 6 has no winning numbers, so it is worth no points.\n",
    "So, in this example, the Elf's pile of scratchcards is worth 13 points.\n",
    "\n",
    "Take a seat in the large pile of colorful cards. How many points are they worth in total?"
   ]
  },
  {
   "cell_type": "code",
   "execution_count": 1,
   "metadata": {},
   "outputs": [],
   "source": [
    "puzzle_input = \"\"\n",
    "file_number = 4\n",
    "with open(file=f\"inputs/{file_number}.txt\", mode = 'r') as f:\n",
    "    puzzle_input = f.read()\n"
   ]
  },
  {
   "cell_type": "code",
   "execution_count": 3,
   "metadata": {},
   "outputs": [],
   "source": [
    "puzzle_input = puzzle_input.split('\\n')"
   ]
  },
  {
   "cell_type": "code",
   "execution_count": 7,
   "metadata": {},
   "outputs": [],
   "source": [
    "Cards = {i.split(':')[0]: i.split(':')[1] for i in puzzle_input}"
   ]
  },
  {
   "cell_type": "code",
   "execution_count": 12,
   "metadata": {},
   "outputs": [],
   "source": [
    "cards_w = []\n",
    "cards_n = []\n",
    "for card,num  in Cards.items():\n",
    "    s = num.split('|')\n",
    "    cards_w.append(s[0].split())\n",
    "    cards_n.append(s[1].split())\n"
   ]
  },
  {
   "cell_type": "code",
   "execution_count": 24,
   "metadata": {},
   "outputs": [
    {
     "name": "stdout",
     "output_type": "stream",
     "text": [
      " 96 64 85 18 82 33 29 17 24 99 | 76 99 53 17 78 38 82 96 18 85  1 73 36 24 11 47 40 64 89 98 20  9 23 84 57:\n",
      "['96', '64', '85', '18', '82', '33', '29', '17', '24', '99'] || ['76', '99', '53', '17', '78', '38', '82', '96', '18', '85', '1', '73', '36', '24', '11', '47', '40', '64', '89', '98', '20', '9', '23', '84', '57']\n",
      " 73 21 29 44 15 91 95 12  6 55 | 63 56 34 55 59 62 94 29 89 95 21 28 91 78 83 12  6  2 84 46 73 81 15 44 20:\n",
      "['73', '21', '29', '44', '15', '91', '95', '12', '6', '55'] || ['63', '56', '34', '55', '59', '62', '94', '29', '89', '95', '21', '28', '91', '78', '83', '12', '6', '2', '84', '46', '73', '81', '15', '44', '20']\n",
      " 15 92 59 63 87 68 61 26 98 97 |  4 59 46 83 68 10 32 15 58 85 78 22 98 77 92 56 42 36 61  7 87 17 26 97 63:\n",
      "['15', '92', '59', '63', '87', '68', '61', '26', '98', '97'] || ['4', '59', '46', '83', '68', '10', '32', '15', '58', '85', '78', '22', '98', '77', '92', '56', '42', '36', '61', '7', '87', '17', '26', '97', '63']\n",
      " 87 71 84 55 92  9 26 10 24 25 | 65  1 34 35 50 59  2 23  6 63 56  5 98 45  7 41 58 93 54 27 44 82 46 47 21:\n",
      "['87', '71', '84', '55', '92', '9', '26', '10', '24', '25'] || ['65', '1', '34', '35', '50', '59', '2', '23', '6', '63', '56', '5', '98', '45', '7', '41', '58', '93', '54', '27', '44', '82', '46', '47', '21']\n",
      " 62 49 39 32 15 77 78 50 34 65 | 78 76 20 60 65 56 82 22 39 99 72 35 33 77 49  1 50 42 62 26 16 23 75 43 95:\n",
      "['62', '49', '39', '32', '15', '77', '78', '50', '34', '65'] || ['78', '76', '20', '60', '65', '56', '82', '22', '39', '99', '72', '35', '33', '77', '49', '1', '50', '42', '62', '26', '16', '23', '75', '43', '95']\n",
      " 30 70 26 71 78 57 14 91 66 25 | 61 36  4 46 81 41 99 14 76 78 71 26  2 66  9 48 91 11 30 70 57 42 25 62 87:\n",
      "['30', '70', '26', '71', '78', '57', '14', '91', '66', '25'] || ['61', '36', '4', '46', '81', '41', '99', '14', '76', '78', '71', '26', '2', '66', '9', '48', '91', '11', '30', '70', '57', '42', '25', '62', '87']\n"
     ]
    }
   ],
   "source": [
    "for i in range(22,28):\n",
    "    print(Cards[f\"Card {str(i+1).rjust(3)}\"], end= \":\\n\")\n",
    "    print(cards_w[i], \"||\", cards_n[i])"
   ]
  },
  {
   "cell_type": "code",
   "execution_count": 30,
   "metadata": {},
   "outputs": [],
   "source": [
    "def point_counter(win , num) :\n",
    "    count = 0\n",
    "    for i in win:\n",
    "        if i in num:\n",
    "            count += 1\n",
    "    \n",
    "    return 2**(count-1) if count > 0 else 0\n"
   ]
  },
  {
   "cell_type": "code",
   "execution_count": 31,
   "metadata": {},
   "outputs": [
    {
     "data": {
      "text/plain": [
       "512"
      ]
     },
     "execution_count": 31,
     "metadata": {},
     "output_type": "execute_result"
    }
   ],
   "source": [
    "point_counter(cards_w[2], cards_n[2])"
   ]
  },
  {
   "cell_type": "code",
   "execution_count": 33,
   "metadata": {},
   "outputs": [],
   "source": [
    "gamePoints  = [point_counter(cards_w[i] , cards_n[i]) for i in range(len(cards_w))]"
   ]
  },
  {
   "cell_type": "code",
   "execution_count": 34,
   "metadata": {},
   "outputs": [
    {
     "data": {
      "text/plain": [
       "[512,\n",
       " 4,\n",
       " 512,\n",
       " 2,\n",
       " 0,\n",
       " 128,\n",
       " 512,\n",
       " 4,\n",
       " 4,\n",
       " 32,\n",
       " 64,\n",
       " 16,\n",
       " 4,\n",
       " 2,\n",
       " 2,\n",
       " 0,\n",
       " 1,\n",
       " 0,\n",
       " 512,\n",
       " 512,\n",
       " 256,\n",
       " 512,\n",
       " 128,\n",
       " 512,\n",
       " 512,\n",
       " 0,\n",
       " 64,\n",
       " 512,\n",
       " 1,\n",
       " 512,\n",
       " 1,\n",
       " 1,\n",
       " 128,\n",
       " 64,\n",
       " 8,\n",
       " 4,\n",
       " 8,\n",
       " 2,\n",
       " 2,\n",
       " 0,\n",
       " 0,\n",
       " 8,\n",
       " 512,\n",
       " 512,\n",
       " 2,\n",
       " 32,\n",
       " 0,\n",
       " 256,\n",
       " 64,\n",
       " 128,\n",
       " 16,\n",
       " 1,\n",
       " 8,\n",
       " 256,\n",
       " 256,\n",
       " 2,\n",
       " 64,\n",
       " 4,\n",
       " 8,\n",
       " 4,\n",
       " 1,\n",
       " 0,\n",
       " 1,\n",
       " 0,\n",
       " 128,\n",
       " 512,\n",
       " 512,\n",
       " 0,\n",
       " 512,\n",
       " 0,\n",
       " 0,\n",
       " 0,\n",
       " 256,\n",
       " 8,\n",
       " 256,\n",
       " 0,\n",
       " 512,\n",
       " 4,\n",
       " 16,\n",
       " 64,\n",
       " 64,\n",
       " 2,\n",
       " 8,\n",
       " 2,\n",
       " 1,\n",
       " 2,\n",
       " 1,\n",
       " 0,\n",
       " 4,\n",
       " 256,\n",
       " 16,\n",
       " 16,\n",
       " 32,\n",
       " 64,\n",
       " 8,\n",
       " 4,\n",
       " 32,\n",
       " 1,\n",
       " 0,\n",
       " 2,\n",
       " 1,\n",
       " 1,\n",
       " 0,\n",
       " 2,\n",
       " 512,\n",
       " 512,\n",
       " 512,\n",
       " 0,\n",
       " 512,\n",
       " 512,\n",
       " 512,\n",
       " 0,\n",
       " 512,\n",
       " 4,\n",
       " 8,\n",
       " 0,\n",
       " 1,\n",
       " 64,\n",
       " 32,\n",
       " 1,\n",
       " 4,\n",
       " 1,\n",
       " 16,\n",
       " 0,\n",
       " 0,\n",
       " 2,\n",
       " 1,\n",
       " 0,\n",
       " 128,\n",
       " 256,\n",
       " 64,\n",
       " 512,\n",
       " 64,\n",
       " 64,\n",
       " 0,\n",
       " 0,\n",
       " 4,\n",
       " 8,\n",
       " 2,\n",
       " 1,\n",
       " 1,\n",
       " 0,\n",
       " 0,\n",
       " 16,\n",
       " 512,\n",
       " 512,\n",
       " 32,\n",
       " 512,\n",
       " 8,\n",
       " 8,\n",
       " 16,\n",
       " 4,\n",
       " 512,\n",
       " 4,\n",
       " 64,\n",
       " 64,\n",
       " 4,\n",
       " 2,\n",
       " 0,\n",
       " 1,\n",
       " 0,\n",
       " 1,\n",
       " 0,\n",
       " 8,\n",
       " 512,\n",
       " 512,\n",
       " 128,\n",
       " 256,\n",
       " 512,\n",
       " 512,\n",
       " 512,\n",
       " 0,\n",
       " 32,\n",
       " 2,\n",
       " 256,\n",
       " 32,\n",
       " 8,\n",
       " 256,\n",
       " 64,\n",
       " 128,\n",
       " 16,\n",
       " 8,\n",
       " 8,\n",
       " 4,\n",
       " 4,\n",
       " 0,\n",
       " 1,\n",
       " 0,\n",
       " 64,\n",
       " 256,\n",
       " 512,\n",
       " 512,\n",
       " 4,\n",
       " 512,\n",
       " 64,\n",
       " 16,\n",
       " 1,\n",
       " 256,\n",
       " 4,\n",
       " 32,\n",
       " 256,\n",
       " 32,\n",
       " 8,\n",
       " 128,\n",
       " 0,\n",
       " 1,\n",
       " 0,\n",
       " 2,\n",
       " 0,\n",
       " 1,\n",
       " 0,\n",
       " 0]"
      ]
     },
     "execution_count": 34,
     "metadata": {},
     "output_type": "execute_result"
    }
   ],
   "source": [
    "gamePoints"
   ]
  },
  {
   "cell_type": "code",
   "execution_count": 35,
   "metadata": {},
   "outputs": [],
   "source": [
    "result = sum(gamePoints)"
   ]
  },
  {
   "cell_type": "code",
   "execution_count": 36,
   "metadata": {},
   "outputs": [
    {
     "name": "stdout",
     "output_type": "stream",
     "text": [
      "25010\n"
     ]
    }
   ],
   "source": [
    "print(result)"
   ]
  },
  {
   "cell_type": "code",
   "execution_count": null,
   "metadata": {},
   "outputs": [],
   "source": []
  }
 ],
 "metadata": {
  "kernelspec": {
   "display_name": "Python 3",
   "language": "python",
   "name": "python3"
  },
  "language_info": {
   "codemirror_mode": {
    "name": "ipython",
    "version": 3
   },
   "file_extension": ".py",
   "mimetype": "text/x-python",
   "name": "python",
   "nbconvert_exporter": "python",
   "pygments_lexer": "ipython3",
   "version": "3.11.7"
  }
 },
 "nbformat": 4,
 "nbformat_minor": 2
}
