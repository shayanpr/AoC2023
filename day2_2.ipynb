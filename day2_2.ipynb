{
 "cells": [
  {
   "cell_type": "markdown",
   "metadata": {},
   "source": [
    "# **Advent of Code**\n",
    "\n",
    "This is an annual event in which a set of daily challenges are provided, for programmers of all walks of life to work on. [Advent of Code](adventofcode.com) is highly recommended for any programmers out there."
   ]
  },
  {
   "cell_type": "markdown",
   "metadata": {},
   "source": [
    "## **Day 2: Cube Conundrum**\n",
    "You're launched high into the atmosphere! The apex of your trajectory just barely reaches the surface of a large island floating in the sky. You gently land in a fluffy pile of leaves. It's quite cold, but you don't see much snow. An Elf runs over to greet you.\n",
    "\n",
    "The Elf explains that you've arrived at _Snow Island_ and apologizes for the lack of snow. He'll be happy to explain the situation, but it's a bit of a walk, so you have some time. They don't get many visitors up here; would you like to play a game in the meantime?\n",
    "\n",
    "As you walk, the Elf shows you a small bag and some cubes which are either red, green, or blue. Each time you play this game, he will hide a secret number of cubes of each color in the bag, and your goal is to figure out information about the number of cubes.\n",
    "\n",
    "To get information, once a bag has been loaded with cubes, the Elf will reach into the bag, grab a handful of random cubes, show them to you, and then put them back in the bag. He'll do this a few times per game.\n",
    "\n",
    "You play several games and record the information from each game (your puzzle input). Each game is listed with its ID number (like the 11 in Game 11: ...) followed by a semicolon-separated list of subsets of cubes that were revealed from the bag (like 3 red, 5 green, 4 blue).\n",
    "\n",
    "For example, the record of a few games might look like this:\n",
    "```\n",
    "Game 1: 3 blue, 4 red; 1 red, 2 green, 6 blue; 2 green\n",
    "Game 2: 1 blue, 2 green; 3 green, 4 blue, 1 red; 1 green, 1 blue\n",
    "Game 3: 8 green, 6 blue, 20 red; 5 blue, 4 red, 13 green; 5 green, 1 red\n",
    "Game 4: 1 green, 3 red, 6 blue; 3 green, 6 red; 3 green, 15 blue, 14 red\n",
    "Game 5: 6 red, 1 blue, 3 green; 2 blue, 1 red, 2 green\n",
    "```\n",
    "In game 1, three sets of cubes are revealed from the bag (and then put back again). The first set is 3 blue cubes and 4 red cubes; the second set is 1 red cube, 2 green cubes, and 6 blue cubes; the third set is only 2 green cubes.\n",
    "\n",
    "The Elf would first like to know which games would have been possible if the bag contained _only 12 red cubes, 13 green cubes, and 14 blue cubes_?\n",
    "\n",
    "In the example above, games 1, 2, and 5 would have been _possible_ if the bag had been loaded with that configuration. However, game 3 would have been _impossible_ because at one point the Elf showed you 20 red cubes at once; similarly, game 4 would also have been _impossible_ because the Elf showed you 15 blue cubes at once. If you add up the IDs of the games that would have been _possible_, you get 8.\n",
    "\n",
    "Determine which games would have been possible if the bag had been loaded with only 12 red cubes, 13 green cubes, and 14 blue cubes. _What is the sum of the IDs of those games_?"
   ]
  },
  {
   "cell_type": "markdown",
   "metadata": {},
   "source": [
    "## Part Two\n",
    "\n",
    "The Elf says they've stopped producing snow because they aren't getting any water! He isn't sure why the water stopped; however, he can show you how to get to the water source to check it out for yourself. It's just up ahead!\n",
    "\n",
    "As you continue your walk, the Elf poses a second question: in each game you played, what is the _fewest number of cubes of each color_ that could have been in the bag to make the game possible?\n",
    "\n",
    "Again consider the example games from earlier:\n",
    "\n",
    "```\n",
    "Game 1: 3 blue, 4 red; 1 red, 2 green, 6 blue; 2 green\n",
    "Game 2: 1 blue, 2 green; 3 green, 4 blue, 1 red; 1 green, 1 blue\n",
    "Game 3: 8 green, 6 blue, 20 red; 5 blue, 4 red, 13 green; 5 green, 1 red\n",
    "Game 4: 1 green, 3 red, 6 blue; 3 green, 6 red; 3 green, 15 blue, 14 red\n",
    "Game 5: 6 red, 1 blue, 3 green; 2 blue, 1 red, 2 green\n",
    "```\n",
    "-In game 1, the game could have been played with as few as 4 red, 2 green, and 6 blue cubes. If any color had even one fewer cube, the game would have been impossible.\n",
    "\n",
    "-Game 2 could have been played with a minimum of 1 red, 3 green, and 4 blue cubes.\n",
    "\n",
    "-Game 3 must have been played with at least 20 red, 13 green, and 6 blue cubes.\n",
    "\n",
    "-Game 4 required at least 14 red, 3 green, and 15 blue cubes.\n",
    "\n",
    "-Game 5 needed no fewer than 6 red, 3 green, and 2 blue cubes in the bag.\n",
    "\n",
    "The _power_ of a set of cubes is equal to the numbers of red, green, and blue cubes multiplied together. The power of the minimum set of cubes in game 1 is 48. In games 2-5 it was 12, 1560, 630, and 36, respectively. Adding up these five powers produces the sum 2286.\n",
    "\n",
    "For each game, find the minimum set of cubes that must have been present. _What is the sum of the power of these sets_?"
   ]
  },
  {
   "cell_type": "code",
   "execution_count": 2,
   "metadata": {},
   "outputs": [],
   "source": [
    "puzzle_input = \"\"\n",
    "file_number = 2\n",
    "with open(file=f\"inputs/{file_number}.txt\", mode = 'r') as f:\n",
    "    puzzle_input = f.read()\n"
   ]
  },
  {
   "cell_type": "code",
   "execution_count": 3,
   "metadata": {},
   "outputs": [],
   "source": [
    "puzzle_input = puzzle_input.split('\\n')"
   ]
  },
  {
   "cell_type": "code",
   "execution_count": 4,
   "metadata": {},
   "outputs": [
    {
     "data": {
      "text/plain": [
       "'Game 100: 1 red, 4 blue, 2 green; 6 red, 2 green, 11 blue; 1 red, 1 blue, 2 green; 1 red, 7 blue'"
      ]
     },
     "execution_count": 4,
     "metadata": {},
     "output_type": "execute_result"
    }
   ],
   "source": [
    "puzzle_input[-1]"
   ]
  },
  {
   "cell_type": "code",
   "execution_count": 5,
   "metadata": {},
   "outputs": [],
   "source": [
    "puzzle_input = {str(i.split(':')[0]) : i.split(':')[1].split(';') for i in puzzle_input}\n"
   ]
  },
  {
   "cell_type": "code",
   "execution_count": 6,
   "metadata": {},
   "outputs": [
    {
     "data": {
      "text/plain": [
       "[' 1 red, 4 blue, 2 green',\n",
       " ' 6 red, 2 green, 11 blue',\n",
       " ' 1 red, 1 blue, 2 green',\n",
       " ' 1 red, 7 blue']"
      ]
     },
     "execution_count": 6,
     "metadata": {},
     "output_type": "execute_result"
    }
   ],
   "source": [
    "puzzle_input['Game 100']"
   ]
  },
  {
   "cell_type": "code",
   "execution_count": 7,
   "metadata": {},
   "outputs": [],
   "source": [
    "puzzle_input_list = [i for i in puzzle_input.values()]"
   ]
  },
  {
   "cell_type": "code",
   "execution_count": 8,
   "metadata": {},
   "outputs": [
    {
     "data": {
      "text/plain": [
       "[' 8 green, 3 red',\n",
       " ' 7 blue, 6 red, 8 green',\n",
       " ' 7 blue, 3 green, 6 red',\n",
       " ' 8 green, 6 blue, 11 red',\n",
       " ' 6 blue, 3 green, 12 red']"
      ]
     },
     "execution_count": 8,
     "metadata": {},
     "output_type": "execute_result"
    }
   ],
   "source": [
    "puzzle_input_list[1]"
   ]
  },
  {
   "cell_type": "code",
   "execution_count": 9,
   "metadata": {},
   "outputs": [
    {
     "name": "stdout",
     "output_type": "stream",
     "text": [
      "[]\n"
     ]
    }
   ],
   "source": [
    " puzzle_input_list_processed = []\n",
    " print(puzzle_input_list_processed)\n",
    " for i in range(len(puzzle_input_list)):\n",
    "    g = []\n",
    "    for j in range(len(puzzle_input_list[i])):\n",
    "        l =  puzzle_input_list[i][j].split(',')\n",
    "        g.append(l)\n",
    "    puzzle_input_list_processed.append(g)"
   ]
  },
  {
   "cell_type": "code",
   "execution_count": 10,
   "metadata": {},
   "outputs": [],
   "source": [
    "def is_game_possible(list_of_game):\n",
    "    for i in list_of_game:\n",
    "        for j in i:\n",
    "            k = j.split()\n",
    "            if k[1] == 'red' and  int(k[0]) > 12:\n",
    "                return False\n",
    "            if k[1] == 'green' and  int(k[0]) > 13:\n",
    "                return False\n",
    "            if k[1] == 'blue' and int(k[0]) > 14:\n",
    "                return False\n",
    "    return True"
   ]
  },
  {
   "cell_type": "code",
   "execution_count": 11,
   "metadata": {},
   "outputs": [],
   "source": [
    "def power_set(list_of_game):\n",
    "\n",
    "    color_dict = {  \"blue\": 0,\n",
    "                    \"red\": 0,\n",
    "                    \"green\": 0, }\n",
    "    \n",
    "    for i in list_of_game:\n",
    "        for j in i:\n",
    "            k = j.split()\n",
    "            color_dict[k[1]] = max(int(color_dict[k[1]]), int(k[0]))\n",
    "\n",
    "    return max(color_dict[\"blue\"] , 1) * max(color_dict[\"red\"] , 1) * max(color_dict[\"green\"] , 1)"
   ]
  },
  {
   "cell_type": "code",
   "execution_count": 12,
   "metadata": {},
   "outputs": [
    {
     "data": {
      "text/plain": [
       "[[' 8 green', ' 3 red'],\n",
       " [' 7 blue', ' 6 red', ' 8 green'],\n",
       " [' 7 blue', ' 3 green', ' 6 red'],\n",
       " [' 8 green', ' 6 blue', ' 11 red'],\n",
       " [' 6 blue', ' 3 green', ' 12 red']]"
      ]
     },
     "execution_count": 12,
     "metadata": {},
     "output_type": "execute_result"
    }
   ],
   "source": [
    "puzzle_input_list_processed[1]"
   ]
  },
  {
   "cell_type": "code",
   "execution_count": 13,
   "metadata": {},
   "outputs": [
    {
     "name": "stdout",
     "output_type": "stream",
     "text": [
      "48\n"
     ]
    }
   ],
   "source": [
    "print(power_set([[\"3 blue\"], [\" 4 red\"], [\"1 red\"], [\"2 green\"], [\"6 blue\"]  , [\"2 green\"]  ]))"
   ]
  },
  {
   "cell_type": "code",
   "execution_count": 14,
   "metadata": {},
   "outputs": [
    {
     "name": "stdout",
     "output_type": "stream",
     "text": [
      "600\n",
      "672\n",
      "693\n",
      "20\n",
      "1360\n",
      "624\n",
      "420\n",
      "243\n",
      "576\n",
      "840\n",
      "315\n",
      "1440\n",
      "385\n",
      "408\n",
      "252\n",
      "80\n",
      "105\n",
      "1408\n",
      "2496\n",
      "110\n",
      "16\n",
      "280\n",
      "70\n",
      "120\n",
      "315\n",
      "640\n",
      "96\n",
      "30\n",
      "720\n",
      "918\n",
      "450\n",
      "1694\n",
      "2400\n",
      "162\n",
      "130\n",
      "1632\n",
      "36\n",
      "798\n",
      "720\n",
      "360\n",
      "840\n",
      "3040\n",
      "24\n",
      "1080\n",
      "144\n",
      "912\n",
      "330\n",
      "2160\n",
      "135\n",
      "175\n",
      "624\n",
      "1260\n",
      "8\n",
      "36\n",
      "238\n",
      "70\n",
      "98\n",
      "429\n",
      "1404\n",
      "168\n",
      "4760\n",
      "1056\n",
      "360\n",
      "605\n",
      "390\n",
      "462\n",
      "1680\n",
      "360\n",
      "150\n",
      "156\n",
      "624\n",
      "546\n",
      "2299\n",
      "96\n",
      "10\n",
      "360\n",
      "252\n",
      "90\n",
      "1824\n",
      "120\n",
      "112\n",
      "780\n",
      "2240\n",
      "2448\n",
      "90\n",
      "990\n",
      "24\n",
      "189\n",
      "648\n",
      "72\n",
      "476\n",
      "195\n",
      "2520\n",
      "150\n",
      "90\n",
      "1040\n",
      "480\n",
      "216\n",
      "462\n",
      "132\n"
     ]
    }
   ],
   "source": [
    "for i in range(100):\n",
    "    print(power_set(puzzle_input_list_processed[i]))"
   ]
  },
  {
   "cell_type": "code",
   "execution_count": 15,
   "metadata": {},
   "outputs": [
    {
     "name": "stdout",
     "output_type": "stream",
     "text": [
      "67363\n"
     ]
    }
   ],
   "source": [
    "print(sum(map(power_set , puzzle_input_list_processed)))"
   ]
  }
 ],
 "metadata": {
  "kernelspec": {
   "display_name": "Python 3",
   "language": "python",
   "name": "python3"
  },
  "language_info": {
   "codemirror_mode": {
    "name": "ipython",
    "version": 3
   },
   "file_extension": ".py",
   "mimetype": "text/x-python",
   "name": "python",
   "nbconvert_exporter": "python",
   "pygments_lexer": "ipython3",
   "version": "3.11.1"
  }
 },
 "nbformat": 4,
 "nbformat_minor": 2
}
