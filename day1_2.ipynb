{
 "cells": [
  {
   "cell_type": "markdown",
   "metadata": {},
   "source": [
    "# **Advent of Code**\n",
    "\n",
    "This is an annual event in which a set of daily challenges are provided, for programmers of all walks of life to work on. [Advent of Code](adventofcode.com) is highly recommended for any programmers out there."
   ]
  },
  {
   "cell_type": "markdown",
   "metadata": {},
   "source": [
    "## **Day 1: Trebuchet?!**\n",
    "\n",
    "Something is wrong with global snow production, and you've been selected to take a look. The Elves have even given you a map; on it, they've used stars to mark the top fifty locations that are likely to be having problems.\n",
    "\n",
    "You've been doing this long enough to know that to restore snow operations, you need to check all _fifty stars_ by December 25th.\n",
    "\n",
    "Collect stars by solving puzzles. Two puzzles will be made available on each day in the Advent calendar; the second puzzle is unlocked when you complete the first. Each puzzle grants _one star_. Good luck!\n",
    "\n",
    "You try to ask why they can't just use a weather machine (\"not powerful enough\") and where they're even sending you (\"the sky\") and why your map looks mostly blank (\"you sure ask a lot of questions\") and hang on did you just say the sky (\"of course, where do you think snow comes from\") when you realize that the Elves are already loading you into a trebuchet (\"please hold still, we need to strap you in\").\n",
    "\n",
    "As they're making the final adjustments, they discover that their calibration document (your puzzle input) has been amended by a very young Elf who was apparently just excited to show off her art skills. Consequently, the Elves are having trouble reading the values on the document.\n",
    "\n",
    "The newly-improved calibration document consists of lines of text; each line originally contained a specific calibration value that the Elves now need to recover. On each line, the calibration value can be found by combining the first digit and the last digit (in that order) to form a single two-digit number.\n",
    "\n",
    "For example:\n",
    "```\n",
    "1abc2\n",
    "pqr3stu8vwx\n",
    "a1b2c3d4e5f\n",
    "treb7uchet\n",
    "```\n",
    "In this example, the calibration values of these four lines are 12, 38, 15, and 77. Adding these together produces 142.\n",
    "\n",
    "Consider your entire calibration document. What is the sum of all of the calibration values?\n",
    "\n"
   ]
  },
  {
   "cell_type": "markdown",
   "metadata": {},
   "source": [
    "# ** Part 2 **\n",
    "\n",
    "Your calculation isn't quite right. It looks like some of the digits are actually spelled out with letters: one, two, three, four, five, six, seven, eight, and nine also count as valid \"digits\".\n",
    "\n",
    "Equipped with this new information, you now need to find the real first and last digit on each line. For example:\n",
    "\n",
    "```\n",
    "two1nine\n",
    "eightwothree\n",
    "abcone2threexyz\n",
    "xtwone3four\n",
    "4nineeightseven2\n",
    "zoneight234\n",
    "7pqrstsixteen\n",
    "```\n",
    "In this example, the calibration values are 29, 83, 13, 24, 42, 14, and 76. Adding these together produces 281."
   ]
  },
  {
   "cell_type": "code",
   "execution_count": 1,
   "metadata": {},
   "outputs": [],
   "source": [
    "puzzle_input = \"\"\n",
    "file_number = 1\n",
    "with open(file=f\"inputs/{file_number}.txt\", mode = 'r') as f:\n",
    "    puzzle_input = f.read()\n"
   ]
  },
  {
   "cell_type": "code",
   "execution_count": 2,
   "metadata": {},
   "outputs": [],
   "source": [
    "puzzle_input = puzzle_input.split('\\n')"
   ]
  },
  {
   "cell_type": "code",
   "execution_count": 3,
   "metadata": {},
   "outputs": [
    {
     "name": "stdout",
     "output_type": "stream",
     "text": [
      "22314kasdf17ine\n",
      "t2o23o1e4kasdfo1es7n9e\n"
     ]
    }
   ],
   "source": [
    "def valid_digit_changer(s):\n",
    "    Dictionary = {\n",
    "        \"one\" : \"1\",\n",
    "        \"two\" : \"2\",\n",
    "        \"three\" : \"3\",\n",
    "        \"four\" : \"4\",\n",
    "        \"five\" : \"5\",\n",
    "        \"six\" : \"6\",\n",
    "        \"seven\" : \"7\",\n",
    "        \"eight\" : \"8\",\n",
    "        \"nine\" : \"9\",\n",
    "    }\n",
    "    placeDict = { i : \"-1\" for i in Dictionary.keys()}\n",
    "    for alphanumeric in placeDict.keys():\n",
    "        placeDict[alphanumeric] = s.find(alphanumeric)\n",
    "    \n",
    "    sorted_placed_list = sorted(placeDict.items() , key= lambda x:x[1])\n",
    "    sorted_placed_dict = { i[0]: str(i[1]) for i in sorted(placeDict.items() , key = lambda x:x[1])}\n",
    "    for alphanumeric, digit in sorted_placed_dict.items():\n",
    "        if int(digit) <0 :\n",
    "            continue\n",
    "\n",
    "        s = s.replace(alphanumeric, Dictionary[alphanumeric])\n",
    "    return s \n",
    "\n",
    "def valid_digit_changer2(s):\n",
    "    Dictionary = {\n",
    "        \"one\" : \"1\",\n",
    "        \"two\" : \"2\",\n",
    "        \"three\" : \"3\",\n",
    "        \"four\" : \"4\",\n",
    "        \"five\" : \"5\",\n",
    "        \"six\" : \"6\",\n",
    "        \"seven\" : \"7\",\n",
    "        \"eight\" : \"8\",\n",
    "        \"nine\" : \"9\",\n",
    "    }\n",
    "    \n",
    "    for alphanumeric, digit in Dictionary.items():\n",
    "        s = s.replace(alphanumeric, alphanumeric[0]+digit+alphanumeric[-1])\n",
    "    return s \n",
    "\n",
    "print(valid_digit_changer(\"two23one4kasdfonesevenine\"))\n",
    "print(valid_digit_changer2(\"two23one4kasdfonesevenine\"))"
   ]
  },
  {
   "cell_type": "code",
   "execution_count": 4,
   "metadata": {},
   "outputs": [
    {
     "name": "stdout",
     "output_type": "stream",
     "text": [
      "1ight\n",
      "o1e8t\n"
     ]
    }
   ],
   "source": [
    "print(valid_digit_changer(\"oneight\"))\n",
    "print(valid_digit_changer2(\"oneight\"))"
   ]
  },
  {
   "cell_type": "code",
   "execution_count": 5,
   "metadata": {},
   "outputs": [],
   "source": [
    "def string_number_extractor(s):\n",
    "    return ''.join(filter(lambda x: x.isnumeric(), s))\n"
   ]
  },
  {
   "cell_type": "code",
   "execution_count": 6,
   "metadata": {},
   "outputs": [],
   "source": [
    "def first_and_last_number_adder(list_of_numbers):\n",
    "    if list_of_numbers:\n",
    "        return list_of_numbers[0] + list_of_numbers[-1]\n",
    "    else:\n",
    "        return 0\n"
   ]
  },
  {
   "cell_type": "code",
   "execution_count": 7,
   "metadata": {},
   "outputs": [],
   "source": [
    "replaced_digits = list(map(valid_digit_changer2, puzzle_input))"
   ]
  },
  {
   "cell_type": "code",
   "execution_count": 8,
   "metadata": {},
   "outputs": [],
   "source": [
    "numbered_lines = list(map(string_number_extractor, replaced_digits))"
   ]
  },
  {
   "cell_type": "code",
   "execution_count": 9,
   "metadata": {},
   "outputs": [],
   "source": [
    "added_numbered_lines = list(map( first_and_last_number_adder, numbered_lines))"
   ]
  },
  {
   "cell_type": "code",
   "execution_count": 10,
   "metadata": {},
   "outputs": [
    {
     "name": "stdout",
     "output_type": "stream",
     "text": [
      "54581\n"
     ]
    }
   ],
   "source": [
    "from functools import reduce\n",
    "\n",
    "result = reduce(lambda x, y : int(x)+int(y) , added_numbered_lines)\n",
    "\n",
    "print(result)"
   ]
  }
 ],
 "metadata": {
  "kernelspec": {
   "display_name": "Python 3",
   "language": "python",
   "name": "python3"
  },
  "language_info": {
   "codemirror_mode": {
    "name": "ipython",
    "version": 3
   },
   "file_extension": ".py",
   "mimetype": "text/x-python",
   "name": "python",
   "nbconvert_exporter": "python",
   "pygments_lexer": "ipython3",
   "version": "3.11.1"
  }
 },
 "nbformat": 4,
 "nbformat_minor": 2
}
